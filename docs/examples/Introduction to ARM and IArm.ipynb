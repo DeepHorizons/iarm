{
 "cells": [
  {
   "cell_type": "markdown",
   "metadata": {},
   "source": [
    "# THIS IS A WORK IN PROGRESS\n",
    "\n",
    "Welcome to the introduction to ARM assembly and IArm\n",
    "\n",
    "# What is ARM?\n",
    "ARM is a RISC CPU architecture that is commonly used on embeded devices.\n",
    "\n",
    "# What is Assembly?\n",
    "Assembly is a low level programming language.\n",
    "It is generally used for very performant code, very efficient code,\n",
    "or for direct access to the hardware.\n",
    "\n",
    "# What is IArm?\n",
    "IArm is an ARM assembly language interpreter.\n",
    "Normally, assembly is compiled from the source code to machine code.\n",
    "This machine code is then run on the CPU.\n",
    "IArm allows you to write code on your computer, and run it step by step,\n",
    "without the need for the actual hardware.\n",
    "\n",
    "# How do I write assembly?\n",
    "Each assembly line is broken up into three parts.\n",
    "The first part is the label.\n",
    "The label is used to reference whatever this particular line of code is.\n",
    "It can be used for loops, or for holding addresses of memory.\n",
    "The label is optional, so only use it when needed.\n",
    "\n",
    "The second part is the instruction.\n",
    "This is the actual instruction that will be executed.\n",
    "\n",
    "The last part is the instruction operands.\n",
    "These will be used by the instruction to perform the action.\n",
    "\n",
    "`[Label] Instruction [Operand1[, Operand2[, Operand3]]]`\n",
    "\n",
    "It is important to note that if no label is used,\n",
    "the instruction must be spaced or tabbed over.\n",
    "Any word that begins on a line with no spaces to\n",
    "the left will be interpreted as as a label.\n",
    "\n",
    "# Putting values into registers\n",
    "The first instruction is the `MOVS` instruction.\n",
    "`MOVS` stands for \"Move, set\" which will move the value of\n",
    "operand 2 into the register in operand 1 and set the status register.\n",
    "The `MOVS` instruction must be used to load in immediate.\n",
    "\n",
    "Comments can also be added, and start with `;`.\n",
    "Anything after a `;` will be ignored."
   ]
  },
  {
   "cell_type": "code",
   "execution_count": 1,
   "metadata": {
    "collapsed": true
   },
   "outputs": [],
   "source": [
    "    MOVS R0, #5"
   ]
  },
  {
   "cell_type": "markdown",
   "metadata": {},
   "source": [
    "In order to read a register in IArm,\n",
    "we need to use the `%register` magic function.\n",
    "This will print out the value of the register.\n",
    "You can also use `%reg` for short."
   ]
  },
  {
   "cell_type": "code",
   "execution_count": 2,
   "metadata": {
    "collapsed": false
   },
   "outputs": [
    {
     "name": "stdout",
     "output_type": "stream",
     "text": [
      "R0: 0\n"
     ]
    }
   ],
   "source": [
    "%reg R0"
   ]
  },
  {
   "cell_type": "markdown",
   "metadata": {},
   "source": [
    "Why is the value 0?\n",
    "We did not instruct IArm to run the code,\n",
    "so it is simply spitting out the initial value which is 0.\n",
    "To run the code, we specify the `%run` magic,\n",
    "which will run to the end of our current program.\n",
    "the `%run` magic also can take in an integer\n",
    "to specify how many instructions to run."
   ]
  },
  {
   "cell_type": "code",
   "execution_count": 3,
   "metadata": {
    "collapsed": false
   },
   "outputs": [
    {
     "name": "stdout",
     "output_type": "stream",
     "text": [
      "R0: 5\n"
     ]
    }
   ],
   "source": [
    "%run\n",
    "%reg R0"
   ]
  },
  {
   "cell_type": "markdown",
   "metadata": {},
   "source": [
    "# Arithmetic\n",
    "The ARM instruction set comes with a multitude of mathematical instructions to\n",
    "add, subtract, and multiply (no divide though)."
   ]
  },
  {
   "cell_type": "code",
   "execution_count": 4,
   "metadata": {
    "collapsed": false
   },
   "outputs": [],
   "source": [
    "; Add R0 and 1 and store it in R1\n",
    "    ADDS R1, R0, #1\n",
    "\n",
    "; Subtract 10 from R1 and store it in R2\n",
    "    SUBS R2, R1, #7\n",
    "\n",
    "; Multiply R0 by 5\n",
    "    MOVS R3, #5\n",
    "    MULS R3, R0, R3  ; Operand 1 and Operand 3 must be the same register\n",
    "\n",
    "; Integer divide by 4 by bit shifting to the right by 2\n",
    "    LSRS R5, R3, #2"
   ]
  },
  {
   "cell_type": "markdown",
   "metadata": {},
   "source": [
    "When looking at registers, we can specify multiple registers,\n",
    "separated by spaces.\n",
    "Ranges can also be used by specifying the start and end register,\n",
    "separated by a hyphen (`Rn-Rk`)"
   ]
  },
  {
   "cell_type": "code",
   "execution_count": 5,
   "metadata": {
    "collapsed": false
   },
   "outputs": [
    {
     "name": "stdout",
     "output_type": "stream",
     "text": [
      "R0: 5\n",
      "R1: 6\n",
      "R2: 4294967295\n",
      "R3: 25\n",
      "R5: 6\n"
     ]
    }
   ],
   "source": [
    "%run\n",
    "%reg R0-R3 R5"
   ]
  },
  {
   "cell_type": "markdown",
   "metadata": {},
   "source": [
    "\"Whoa, whats going on with R2?\".\n",
    "We should have gotten -1, why is it in the millions?\n",
    "\n",
    "It is -1, that is just the unsigned integer notation for it.\n",
    "To turn on signed representations,\n",
    "simply call the `%signed` magic with either `1`, `true`, or just nothing.\n",
    "Signed representation can be turned off by calling `%signed` with `0` or `false`"
   ]
  },
  {
   "cell_type": "code",
   "execution_count": 6,
   "metadata": {
    "collapsed": false
   },
   "outputs": [
    {
     "name": "stdout",
     "output_type": "stream",
     "text": [
      "R2: -1\n"
     ]
    }
   ],
   "source": [
    "%signed\n",
    "%reg R2"
   ]
  }
 ],
 "metadata": {
  "kernelspec": {
   "display_name": "IArm",
   "language": "ARM",
   "name": "iarm"
  },
  "language_info": {
   "file_extension": ".s",
   "mimetype": "text/x-asm",
   "name": "ARM Coretex M0+ Thumb Assembly"
  }
 },
 "nbformat": 4,
 "nbformat_minor": 0
}
